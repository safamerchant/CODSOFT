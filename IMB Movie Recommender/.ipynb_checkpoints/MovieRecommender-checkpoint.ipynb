{
 "cells": [
  {
   "cell_type": "markdown",
   "id": "bc1c1453-02a1-4403-bf5e-e8e9dcc84c0f",
   "metadata": {},
   "source": [
    "# Movie Recommender - IMB Movie Datset (Kaggle)"
   ]
  },
  {
   "cell_type": "code",
   "execution_count": 4,
   "id": "21f12c96-7b30-454d-b464-474f5616d3de",
   "metadata": {},
   "outputs": [
    {
     "name": "stdout",
     "output_type": "stream",
     "text": [
      "Requirement already satisfied: scipy in c:\\users\\44736\\anaconda3\\lib\\site-packages (1.11.1)Note: you may need to restart the kernel to use updated packages.\n",
      "\n",
      "Requirement already satisfied: numpy<1.28.0,>=1.21.6 in c:\\users\\44736\\anaconda3\\lib\\site-packages (from scipy) (1.24.3)\n"
     ]
    }
   ],
   "source": [
    "pip install scipy"
   ]
  },
  {
   "cell_type": "code",
   "execution_count": 5,
   "id": "8f86d3b9-b7a8-4145-86de-6a34f26c742c",
   "metadata": {},
   "outputs": [],
   "source": [
    "#import necessary labraries:\n",
    "import numpy as np\n",
    "import pandas as pd\n",
    "import seaborn as sns\n",
    "import matplotlib.pyplot as plt\n",
    "from sklearn.feature_extraction.text import TfidfVectorizer\n",
    "from sklearn.neighbors import NearestNeighbors\n",
    "from scipy.sparse import csr_matrix"
   ]
  },
  {
   "cell_type": "code",
   "execution_count": 6,
   "id": "48cb1ce9-40bd-47d2-9556-a16005ee7b09",
   "metadata": {},
   "outputs": [],
   "source": [
    "data = pd.read_csv('Genre Classification Dataset/train_data.txt', delimiter=':::', engine='python', header=None)"
   ]
  },
  {
   "cell_type": "code",
   "execution_count": 7,
   "id": "d5d84733-a35f-48c6-b823-29934e857c53",
   "metadata": {},
   "outputs": [
    {
     "data": {
      "text/html": [
       "<div>\n",
       "<style scoped>\n",
       "    .dataframe tbody tr th:only-of-type {\n",
       "        vertical-align: middle;\n",
       "    }\n",
       "\n",
       "    .dataframe tbody tr th {\n",
       "        vertical-align: top;\n",
       "    }\n",
       "\n",
       "    .dataframe thead th {\n",
       "        text-align: right;\n",
       "    }\n",
       "</style>\n",
       "<table border=\"1\" class=\"dataframe\">\n",
       "  <thead>\n",
       "    <tr style=\"text-align: right;\">\n",
       "      <th></th>\n",
       "      <th>0</th>\n",
       "      <th>1</th>\n",
       "      <th>2</th>\n",
       "      <th>3</th>\n",
       "    </tr>\n",
       "  </thead>\n",
       "  <tbody>\n",
       "    <tr>\n",
       "      <th>0</th>\n",
       "      <td>1</td>\n",
       "      <td>Oscar et la dame rose (2009)</td>\n",
       "      <td>drama</td>\n",
       "      <td>Listening in to a conversation between his do...</td>\n",
       "    </tr>\n",
       "    <tr>\n",
       "      <th>1</th>\n",
       "      <td>2</td>\n",
       "      <td>Cupid (1997)</td>\n",
       "      <td>thriller</td>\n",
       "      <td>A brother and sister with a past incestuous r...</td>\n",
       "    </tr>\n",
       "    <tr>\n",
       "      <th>2</th>\n",
       "      <td>3</td>\n",
       "      <td>Young, Wild and Wonderful (1980)</td>\n",
       "      <td>adult</td>\n",
       "      <td>As the bus empties the students for their fie...</td>\n",
       "    </tr>\n",
       "    <tr>\n",
       "      <th>3</th>\n",
       "      <td>4</td>\n",
       "      <td>The Secret Sin (1915)</td>\n",
       "      <td>drama</td>\n",
       "      <td>To help their unemployed father make ends mee...</td>\n",
       "    </tr>\n",
       "    <tr>\n",
       "      <th>4</th>\n",
       "      <td>5</td>\n",
       "      <td>The Unrecovered (2007)</td>\n",
       "      <td>drama</td>\n",
       "      <td>The film's title refers not only to the un-re...</td>\n",
       "    </tr>\n",
       "  </tbody>\n",
       "</table>\n",
       "</div>"
      ],
      "text/plain": [
       "   0                                   1           2  \\\n",
       "0  1       Oscar et la dame rose (2009)       drama    \n",
       "1  2                       Cupid (1997)    thriller    \n",
       "2  3   Young, Wild and Wonderful (1980)       adult    \n",
       "3  4              The Secret Sin (1915)       drama    \n",
       "4  5             The Unrecovered (2007)       drama    \n",
       "\n",
       "                                                   3  \n",
       "0   Listening in to a conversation between his do...  \n",
       "1   A brother and sister with a past incestuous r...  \n",
       "2   As the bus empties the students for their fie...  \n",
       "3   To help their unemployed father make ends mee...  \n",
       "4   The film's title refers not only to the un-re...  "
      ]
     },
     "execution_count": 7,
     "metadata": {},
     "output_type": "execute_result"
    }
   ],
   "source": [
    "data.head()"
   ]
  },
  {
   "cell_type": "code",
   "execution_count": 8,
   "id": "8f935017-9921-4c72-bee8-d9cbf6563bac",
   "metadata": {},
   "outputs": [],
   "source": [
    "data.isnull().sum()\n",
    "data.dropna(inplace=True)\n"
   ]
  },
  {
   "cell_type": "code",
   "execution_count": 9,
   "id": "eadda1df-54a5-4e3e-9062-9ddc84ac9e2c",
   "metadata": {},
   "outputs": [
    {
     "name": "stdout",
     "output_type": "stream",
     "text": [
      "   movieId                               title       genre  \\\n",
      "0        1       Oscar et la dame rose (2009)       drama    \n",
      "1        2                       Cupid (1997)    thriller    \n",
      "2        3   Young, Wild and Wonderful (1980)       adult    \n",
      "3        4              The Secret Sin (1915)       drama    \n",
      "4        5             The Unrecovered (2007)       drama    \n",
      "\n",
      "                                         description  \n",
      "0   Listening in to a conversation between his do...  \n",
      "1   A brother and sister with a past incestuous r...  \n",
      "2   As the bus empties the students for their fie...  \n",
      "3   To help their unemployed father make ends mee...  \n",
      "4   The film's title refers not only to the un-re...  \n"
     ]
    }
   ],
   "source": [
    "column_names =['movieId', 'title', 'genre', 'description']\n",
    "data.columns = column_names\n",
    "print(data.head())"
   ]
  },
  {
   "cell_type": "code",
   "execution_count": 10,
   "id": "124a4cee-ddf9-48aa-ba28-f0e60d1c3d2a",
   "metadata": {},
   "outputs": [],
   "source": [
    "data['movie_features']=data['genre']+ ' ' + data['description']"
   ]
  },
  {
   "cell_type": "code",
   "execution_count": 11,
   "id": "38a607c7-9cce-4d9a-bf20-a20156f8d95d",
   "metadata": {},
   "outputs": [
    {
     "name": "stdout",
     "output_type": "stream",
     "text": [
      "(54214, 120800)\n"
     ]
    }
   ],
   "source": [
    "tf=TfidfVectorizer(stop_words='english')\n",
    "#Fit and form the movie_feature \n",
    "tf_matrix = tf.fit_transform(data['movie_features'])\n",
    "print(tf_matrix.shape) #prints the shape of TF-IDF matrix"
   ]
  },
  {
   "cell_type": "code",
   "execution_count": 12,
   "id": "d59835fc-f431-440b-a828-0d5866bcf9c2",
   "metadata": {},
   "outputs": [
    {
     "data": {
      "text/html": [
       "<style>#sk-container-id-1 {color: black;}#sk-container-id-1 pre{padding: 0;}#sk-container-id-1 div.sk-toggleable {background-color: white;}#sk-container-id-1 label.sk-toggleable__label {cursor: pointer;display: block;width: 100%;margin-bottom: 0;padding: 0.3em;box-sizing: border-box;text-align: center;}#sk-container-id-1 label.sk-toggleable__label-arrow:before {content: \"▸\";float: left;margin-right: 0.25em;color: #696969;}#sk-container-id-1 label.sk-toggleable__label-arrow:hover:before {color: black;}#sk-container-id-1 div.sk-estimator:hover label.sk-toggleable__label-arrow:before {color: black;}#sk-container-id-1 div.sk-toggleable__content {max-height: 0;max-width: 0;overflow: hidden;text-align: left;background-color: #f0f8ff;}#sk-container-id-1 div.sk-toggleable__content pre {margin: 0.2em;color: black;border-radius: 0.25em;background-color: #f0f8ff;}#sk-container-id-1 input.sk-toggleable__control:checked~div.sk-toggleable__content {max-height: 200px;max-width: 100%;overflow: auto;}#sk-container-id-1 input.sk-toggleable__control:checked~label.sk-toggleable__label-arrow:before {content: \"▾\";}#sk-container-id-1 div.sk-estimator input.sk-toggleable__control:checked~label.sk-toggleable__label {background-color: #d4ebff;}#sk-container-id-1 div.sk-label input.sk-toggleable__control:checked~label.sk-toggleable__label {background-color: #d4ebff;}#sk-container-id-1 input.sk-hidden--visually {border: 0;clip: rect(1px 1px 1px 1px);clip: rect(1px, 1px, 1px, 1px);height: 1px;margin: -1px;overflow: hidden;padding: 0;position: absolute;width: 1px;}#sk-container-id-1 div.sk-estimator {font-family: monospace;background-color: #f0f8ff;border: 1px dotted black;border-radius: 0.25em;box-sizing: border-box;margin-bottom: 0.5em;}#sk-container-id-1 div.sk-estimator:hover {background-color: #d4ebff;}#sk-container-id-1 div.sk-parallel-item::after {content: \"\";width: 100%;border-bottom: 1px solid gray;flex-grow: 1;}#sk-container-id-1 div.sk-label:hover label.sk-toggleable__label {background-color: #d4ebff;}#sk-container-id-1 div.sk-serial::before {content: \"\";position: absolute;border-left: 1px solid gray;box-sizing: border-box;top: 0;bottom: 0;left: 50%;z-index: 0;}#sk-container-id-1 div.sk-serial {display: flex;flex-direction: column;align-items: center;background-color: white;padding-right: 0.2em;padding-left: 0.2em;position: relative;}#sk-container-id-1 div.sk-item {position: relative;z-index: 1;}#sk-container-id-1 div.sk-parallel {display: flex;align-items: stretch;justify-content: center;background-color: white;position: relative;}#sk-container-id-1 div.sk-item::before, #sk-container-id-1 div.sk-parallel-item::before {content: \"\";position: absolute;border-left: 1px solid gray;box-sizing: border-box;top: 0;bottom: 0;left: 50%;z-index: -1;}#sk-container-id-1 div.sk-parallel-item {display: flex;flex-direction: column;z-index: 1;position: relative;background-color: white;}#sk-container-id-1 div.sk-parallel-item:first-child::after {align-self: flex-end;width: 50%;}#sk-container-id-1 div.sk-parallel-item:last-child::after {align-self: flex-start;width: 50%;}#sk-container-id-1 div.sk-parallel-item:only-child::after {width: 0;}#sk-container-id-1 div.sk-dashed-wrapped {border: 1px dashed gray;margin: 0 0.4em 0.5em 0.4em;box-sizing: border-box;padding-bottom: 0.4em;background-color: white;}#sk-container-id-1 div.sk-label label {font-family: monospace;font-weight: bold;display: inline-block;line-height: 1.2em;}#sk-container-id-1 div.sk-label-container {text-align: center;}#sk-container-id-1 div.sk-container {/* jupyter's `normalize.less` sets `[hidden] { display: none; }` but bootstrap.min.css set `[hidden] { display: none !important; }` so we also need the `!important` here to be able to override the default hidden behavior on the sphinx rendered scikit-learn.org. See: https://github.com/scikit-learn/scikit-learn/issues/21755 */display: inline-block !important;position: relative;}#sk-container-id-1 div.sk-text-repr-fallback {display: none;}</style><div id=\"sk-container-id-1\" class=\"sk-top-container\"><div class=\"sk-text-repr-fallback\"><pre>NearestNeighbors(metric=&#x27;cosine&#x27;, n_jobs=-1, n_neighbors=11)</pre><b>In a Jupyter environment, please rerun this cell to show the HTML representation or trust the notebook. <br />On GitHub, the HTML representation is unable to render, please try loading this page with nbviewer.org.</b></div><div class=\"sk-container\" hidden><div class=\"sk-item\"><div class=\"sk-estimator sk-toggleable\"><input class=\"sk-toggleable__control sk-hidden--visually\" id=\"sk-estimator-id-1\" type=\"checkbox\" checked><label for=\"sk-estimator-id-1\" class=\"sk-toggleable__label sk-toggleable__label-arrow\">NearestNeighbors</label><div class=\"sk-toggleable__content\"><pre>NearestNeighbors(metric=&#x27;cosine&#x27;, n_jobs=-1, n_neighbors=11)</pre></div></div></div></div></div>"
      ],
      "text/plain": [
       "NearestNeighbors(metric='cosine', n_jobs=-1, n_neighbors=11)"
      ]
     },
     "execution_count": 12,
     "metadata": {},
     "output_type": "execute_result"
    }
   ],
   "source": [
    "#convert to a sparse matrix\n",
    "tf_sparse = csr_matrix(tf_matrix)\n",
    "#Use NearsestNeighbors for the approx recommendations\n",
    "nn=NearestNeighbors(n_neighbors=11, metric='cosine',n_jobs=-1)\n",
    "nn.fit(tf_sparse)"
   ]
  },
  {
   "cell_type": "code",
   "execution_count": 22,
   "id": "532bb99f-0fa5-41cf-b1b3-06af14dde150",
   "metadata": {},
   "outputs": [],
   "source": [
    "#get movie index\n",
    "def get_movie_index(title):\n",
    "    title=title.strip()\n",
    "    indices= data.index[data['title'].str.strip() == title].tolist()\n",
    "\n",
    "    if not indices:\n",
    "        raise ValueError(f\"Movie title {title} not found in dataset.\")\n",
    "    return indices[0]\n",
    "# print(data['title'].tolist())#Printing titles to verify"
   ]
  },
  {
   "cell_type": "code",
   "execution_count": 27,
   "id": "817491b8-7364-48bd-9e89-60a41cee6a05",
   "metadata": {},
   "outputs": [],
   "source": [
    "#Get_recommendations\n",
    "def get_recommendations(title, nn_model =nn):\n",
    "    try: \n",
    "        idx =get_movie_index(title)\n",
    "        distances, indices=nn_model.kneighbors(tf_sparse[idx])\n",
    "        similar_movies = [data ['title'].iloc[i] for i in indices.flatten()[1:]] #excluding the movie \n",
    "        return similar_movies\n",
    "    except ValueError as e:\n",
    "        print (e)\n",
    "        return[]"
   ]
  },
  {
   "cell_type": "code",
   "execution_count": 37,
   "id": "69a68417-ead8-4c90-8e29-b1195da60ae0",
   "metadata": {},
   "outputs": [
    {
     "name": "stdout",
     "output_type": "stream",
     "text": [
      "                                   Recommended Movies\n",
      "1             Candyman: Farewell to the Flesh (1995) \n",
      "2                                   Mysterium (????) \n",
      "3                                   \"Teoneol\" (2017) \n",
      "4    Women on the Land - Creating Conscious Commun...\n",
      "5                                Un alma pura (1965) \n",
      "6                            Silent Vengeance (2011) \n",
      "7                                    Typhoeus (2012) \n",
      "8                                Disposable (2017/I) \n",
      "9                             \"Dual Suspects\" (2010) \n",
      "10                                Nameless (2016/II) \n"
     ]
    }
   ],
   "source": [
    "#Testing the recommender using test 'Oscar et la dame rose (2009)'\n",
    "recommendations = get_recommendations(' Cupid (1997)')\n",
    "recommendation_df = pd.DataFrame(recommendations, columns=['Recommended Movies'])\n",
    "recommendation_df.index = recommendation_df.index + 1\n",
    "print (recommendation_df)"
   ]
  }
 ],
 "metadata": {
  "kernelspec": {
   "display_name": "Python 3 (ipykernel)",
   "language": "python",
   "name": "python3"
  },
  "language_info": {
   "codemirror_mode": {
    "name": "ipython",
    "version": 3
   },
   "file_extension": ".py",
   "mimetype": "text/x-python",
   "name": "python",
   "nbconvert_exporter": "python",
   "pygments_lexer": "ipython3",
   "version": "3.11.5"
  }
 },
 "nbformat": 4,
 "nbformat_minor": 5
}
